{
 "cells": [
  {
   "cell_type": "markdown",
   "metadata": {},
   "source": [
    "### 展示专家推荐的服装搭配组合"
   ]
  },
  {
   "cell_type": "code",
   "execution_count": 1,
   "metadata": {},
   "outputs": [],
   "source": [
    "import numpy as np\n",
    "import pandas as pd\n",
    "import matplotlib.pyplot as plt\n",
    "import cv2"
   ]
  },
  {
   "cell_type": "markdown",
   "metadata": {},
   "source": [
    "#### 一、读取搭配组合，存储至字典"
   ]
  },
  {
   "cell_type": "markdown",
   "metadata": {},
   "source": [
    "##### （一）原始数据展示"
   ]
  },
  {
   "cell_type": "code",
   "execution_count": 2,
   "metadata": {},
   "outputs": [
    {
     "data": {
      "text/html": [
       "<div>\n",
       "<style scoped>\n",
       "    .dataframe tbody tr th:only-of-type {\n",
       "        vertical-align: middle;\n",
       "    }\n",
       "\n",
       "    .dataframe tbody tr th {\n",
       "        vertical-align: top;\n",
       "    }\n",
       "\n",
       "    .dataframe thead th {\n",
       "        text-align: right;\n",
       "    }\n",
       "</style>\n",
       "<table border=\"1\" class=\"dataframe\">\n",
       "  <thead>\n",
       "    <tr style=\"text-align: right;\">\n",
       "      <th></th>\n",
       "      <th>item_set</th>\n",
       "    </tr>\n",
       "  </thead>\n",
       "  <tbody>\n",
       "    <tr>\n",
       "      <th>0</th>\n",
       "      <td>1842610;2741506</td>\n",
       "    </tr>\n",
       "    <tr>\n",
       "      <th>1</th>\n",
       "      <td>893028;993019,1375599,1913565,3036503;2849440;...</td>\n",
       "    </tr>\n",
       "    <tr>\n",
       "      <th>2</th>\n",
       "      <td>2612866;1272124;2181942</td>\n",
       "    </tr>\n",
       "    <tr>\n",
       "      <th>3</th>\n",
       "      <td>3128145;2683359;855149</td>\n",
       "    </tr>\n",
       "    <tr>\n",
       "      <th>4</th>\n",
       "      <td>642818;2636382</td>\n",
       "    </tr>\n",
       "  </tbody>\n",
       "</table>\n",
       "</div>"
      ],
      "text/plain": [
       "                                            item_set\n",
       "0                                    1842610;2741506\n",
       "1  893028;993019,1375599,1913565,3036503;2849440;...\n",
       "2                            2612866;1272124;2181942\n",
       "3                             3128145;2683359;855149\n",
       "4                                     642818;2636382"
      ]
     },
     "execution_count": 2,
     "metadata": {},
     "output_type": "execute_result"
    }
   ],
   "source": [
    "# 原始数据展示\n",
    "root = '../Dataes/OriginDataes/dim_fashion_matchsets.txt'\n",
    "data = pd.read_csv(root,sep=' ')\n",
    "data.columns = ['index','item_set'] # 定义列名\n",
    "data = data.drop('index',axis=1) # 删除index列名\n",
    "data.head(5)"
   ]
  },
  {
   "cell_type": "markdown",
   "metadata": {},
   "source": [
    "##### （二）定义DataReader类，实现对原始数据的处理"
   ]
  },
  {
   "cell_type": "markdown",
   "metadata": {},
   "source": [
    "|类型|名称|输入|输出|说明|\n",
    "|--|--|--|--|--|\n",
    "|变量|root|||专家推荐搭配组合所在的文件路径|\n",
    "|变量|matches|||以dataframe格式保存的搭配信息|\n",
    "|方法|__init__(self)|无|无|初始化函数，实现文件的读入，搭配信息的生成|\n",
    "|方法|create_sets(self)|无|summary(dict)：处理后的搭配信息数据|将生成的搭配信息，根据搭配信息的格式再次处理，以字典形式保存|\n",
    "|方法|acount_num(self,sets)|sets|count(int)|统计每个搭配类别中的容量大小|"
   ]
  },
  {
   "cell_type": "markdown",
   "metadata": {},
   "source": [
    "##### （三）DataReader对象的操作流程"
   ]
  },
  {
   "cell_type": "markdown",
   "metadata": {},
   "source": [
    "* 初始化对象，对象实例化时调用__init__()实现:读取专家搭配数据'dim_fashion_matchsets.txt',转换成dataframe格式，赋值于self.matchsets\n",
    "* 数据处理，对象调用create_sets()实现:读取self.matchsets,通过分隔符';',切分相互组合搭配的服装集合,以列表的形式保存;通过分隔符',',切分同一集合下的可替换服装搭配，以列表的形式保存;返回summary,为字典格式；其中key为搭配索引号，范围为0~len(summary-1);values为列表形式的各搭配组合;\n",
    "* 数据统计，对象调用acount_num()实现:读取每个搭配组合数据（字符串），根据分隔符统计每个大类（每个搭配）的具体容量，并返回，结果为列表形式，count[i]表示第i个搭配的各类服装的数量情况"
   ]
  },
  {
   "cell_type": "markdown",
   "metadata": {},
   "source": [
    "* DataReader类的实现"
   ]
  },
  {
   "cell_type": "code",
   "execution_count": 3,
   "metadata": {},
   "outputs": [],
   "source": [
    "class DataReader:\n",
    "    # 初始化函数,读取文件dim_fashion_matchsets.txt文件\n",
    "    def __init__(self):\n",
    "        self.root = '../Dataes/OriginDataes/dim_fashion_matchsets.txt'\n",
    "        matchsets = pd.read_csv(self.root,sep=' ')\n",
    "        matchsets.columns = ['index','item_set'] # 定义列名\n",
    "        self.matchsets = matchsets.drop('index',axis=1) # 删除index列名\n",
    "    \n",
    "    # 处理文件,根据self.matchsets生成对应组合，存储在字典中\n",
    "    def create_summary(self):\n",
    "        summary = {} #存储总的搭配组合\n",
    "        for i in range(0,len(self.matchsets[:])):\n",
    "            sets = self.matchsets['item_set'][i] # 原搭配信息\n",
    "            big_cloths = sets.split(';') # 分割各大类\n",
    "            count = self.acount_num(sets) #计算当前组合下各大类的数量\n",
    "            # print(count)\n",
    "            for j in range(0,len(count)):\n",
    "                cloths = big_cloths[j].split(',')\n",
    "                big_cloths[j] = cloths\n",
    "            summary[i] = big_cloths\n",
    "        return summary\n",
    "    # 给定搭配组合（字符串），得到各大类的数量，以列表的形式返回\n",
    "    def acount_num(self,sets):\n",
    "        types = sets.split(';')\n",
    "        count = []\n",
    "        for type_cloths in types:\n",
    "            num_cloth = type_cloths.split(',')\n",
    "            count.append(len(num_cloth))\n",
    "        return count  "
   ]
  },
  {
   "cell_type": "markdown",
   "metadata": {},
   "source": [
    "* 获取处理后的搭配信息，赋值至sets（字典格式）"
   ]
  },
  {
   "cell_type": "code",
   "execution_count": 4,
   "metadata": {},
   "outputs": [
    {
     "data": {
      "text/plain": [
       "[1, 4, 1, 1, 3, 3, 1]"
      ]
     },
     "execution_count": 4,
     "metadata": {},
     "output_type": "execute_result"
    }
   ],
   "source": [
    "# 读取数据\n",
    "data = DataReader()\n",
    "# 数据处理\n",
    "summary = data.create_summary()\n",
    "# 获取第i个服装搭配组合，此处i为1\n",
    "item_sets_1 = data.matchsets['item_set'].tolist()[1]\n",
    "# 统计该服装搭配组合的各类服装数量情况\n",
    "data.acount_num(item_sets_1)"
   ]
  },
  {
   "cell_type": "markdown",
   "metadata": {},
   "source": [
    "* sumamry预览"
   ]
  },
  {
   "cell_type": "code",
   "execution_count": 5,
   "metadata": {},
   "outputs": [
    {
     "name": "stdout",
     "output_type": "stream",
     "text": [
      "[['1842610'], ['2741506']]\n",
      "[['893028'], ['993019', '1375599', '1913565', '3036503'], ['2849440'], ['2546147'], ['2329974', '2661094', '347849'], ['884801', '127779', '3122713'], ['2338561']]\n",
      "[['2612866'], ['1272124'], ['2181942']]\n",
      "[['3128145'], ['2683359'], ['855149']]\n",
      "[['642818'], ['2636382']]\n"
     ]
    }
   ],
   "source": [
    "for i in range(0,5):\n",
    "    print(summary[i])"
   ]
  },
  {
   "cell_type": "markdown",
   "metadata": {},
   "source": [
    "#### 二、根据搭配组合，生成图片并展示"
   ]
  },
  {
   "cell_type": "markdown",
   "metadata": {},
   "source": [
    "##### （一）原始数据展示"
   ]
  },
  {
   "cell_type": "code",
   "execution_count": 6,
   "metadata": {},
   "outputs": [
    {
     "data": {
      "text/html": [
       "<div>\n",
       "<style scoped>\n",
       "    .dataframe tbody tr th:only-of-type {\n",
       "        vertical-align: middle;\n",
       "    }\n",
       "\n",
       "    .dataframe tbody tr th {\n",
       "        vertical-align: top;\n",
       "    }\n",
       "\n",
       "    .dataframe thead th {\n",
       "        text-align: right;\n",
       "    }\n",
       "</style>\n",
       "<table border=\"1\" class=\"dataframe\">\n",
       "  <thead>\n",
       "    <tr style=\"text-align: right;\">\n",
       "      <th></th>\n",
       "      <th>item_id</th>\n",
       "      <th>cat_id</th>\n",
       "    </tr>\n",
       "  </thead>\n",
       "  <tbody>\n",
       "    <tr>\n",
       "      <th>0</th>\n",
       "      <td>49</td>\n",
       "      <td>228</td>\n",
       "    </tr>\n",
       "    <tr>\n",
       "      <th>1</th>\n",
       "      <td>59</td>\n",
       "      <td>284</td>\n",
       "    </tr>\n",
       "    <tr>\n",
       "      <th>2</th>\n",
       "      <td>109</td>\n",
       "      <td>461</td>\n",
       "    </tr>\n",
       "    <tr>\n",
       "      <th>3</th>\n",
       "      <td>119</td>\n",
       "      <td>368</td>\n",
       "    </tr>\n",
       "    <tr>\n",
       "      <th>4</th>\n",
       "      <td>154</td>\n",
       "      <td>188</td>\n",
       "    </tr>\n",
       "    <tr>\n",
       "      <th>5</th>\n",
       "      <td>179</td>\n",
       "      <td>228</td>\n",
       "    </tr>\n",
       "    <tr>\n",
       "      <th>6</th>\n",
       "      <td>264</td>\n",
       "      <td>368</td>\n",
       "    </tr>\n",
       "    <tr>\n",
       "      <th>7</th>\n",
       "      <td>374</td>\n",
       "      <td>368</td>\n",
       "    </tr>\n",
       "    <tr>\n",
       "      <th>8</th>\n",
       "      <td>414</td>\n",
       "      <td>368</td>\n",
       "    </tr>\n",
       "    <tr>\n",
       "      <th>9</th>\n",
       "      <td>424</td>\n",
       "      <td>160</td>\n",
       "    </tr>\n",
       "  </tbody>\n",
       "</table>\n",
       "</div>"
      ],
      "text/plain": [
       "   item_id  cat_id\n",
       "0       49     228\n",
       "1       59     284\n",
       "2      109     461\n",
       "3      119     368\n",
       "4      154     188\n",
       "5      179     228\n",
       "6      264     368\n",
       "7      374     368\n",
       "8      414     368\n",
       "9      424     160"
      ]
     },
     "execution_count": 6,
     "metadata": {},
     "output_type": "execute_result"
    }
   ],
   "source": [
    "contents = pd.read_csv('../Dataes/OriginDataes/dim_items.txt',sep=' ')\n",
    "contents.columns = ['item_id','cat_id','None']\n",
    "contents = contents.drop('None',axis = 1)\n",
    "contents.head(10)"
   ]
  },
  {
   "cell_type": "markdown",
   "metadata": {},
   "source": [
    "##### （二）定义PicReader类，实现对服装图像的处理"
   ]
  },
  {
   "cell_type": "markdown",
   "metadata": {},
   "source": [
    "|类型|名称|输入|输出|备注|\n",
    "|--|--|--|--|--|\n",
    "|变量|contents|||所有服装及其对应的类别文件所在的文件路径|\n",
    "|方法|__init__(self)|无|无|初始化函数，实现文件的读入|\n",
    "|方法|read_cat(self)|无|contents(dataframe)：处理后的服装种类信息|将生成的搭配信息，drop掉一些列，并以字典形式保存|\n",
    "|方法|complete_cat(self,sets,contents)|sets(dict),contents(dataframe)|sets_new|遍历sets，对每个item_id进行索引，在contents中查找对应的cat_id,并拼接|\n",
    "|方法|present_pic(self,item_sets)|items_sets(list)|error_matches(list)|通过图片展示item_sets(当前服装搭配组合)的图像信息,返回未能成功存储的搭配组合error_matches\n",
    "|方法|store_img(self,item_sets,name)|items_sets(list),name(str)|无|存储展示的item_sets(当前服装搭配组合)的图片搭配结果（.png）|"
   ]
  },
  {
   "cell_type": "markdown",
   "metadata": {},
   "source": [
    "##### （三）PicReader对象的操作流程"
   ]
  },
  {
   "cell_type": "markdown",
   "metadata": {},
   "source": [
    "* 初始化对象，对象实例化时调用__init__()实现:调用read_cat()实现，读取专家搭配数据'dim_items.txt',转换成dataframe格式，赋值于self.contents\n",
    "* 数据处理，对象调用complete(sets,contents)实现:读取sets,contents;对sets中的item_id进行遍历，在contents中进行检索并获取对应的cat_id,将二者拼接，用于读取文件路径\n",
    "* 搭配组合图像数据生成，对象调用present_pic(item_sets)实现:读取item_sets,获取该搭配组合对应的图像数据，并生成和展示搭配组合的图像\n",
    "* 搭配组合图像数据保存，对象调用store_img(item_sets,name)实现:将生成的item_sets对应的搭配组合图像，存储在name对应的路径下"
   ]
  },
  {
   "cell_type": "code",
   "execution_count": 7,
   "metadata": {},
   "outputs": [],
   "source": [
    "class PicReader:\n",
    "    # 初始化函数，指定图片的读取路径\n",
    "    def __init__(self):\n",
    "        self.contents = self.read_cat('../Dataes/OriginDataes/dim_items.txt')\n",
    "    \n",
    "    # 定义函数实现查表，返回当前item_id的路径\n",
    "    # 注意，应当使用OriginData/dim_items.txt实现对对应大类的cat_id的检索\n",
    "    def read_cat(self,path):\n",
    "        # path = '../Dataes/OriginDataes/dim_items.txt'\n",
    "        contents = pd.read_csv(path,sep=' ')\n",
    "        contents.columns = ['item_id','cat_id','None']\n",
    "        contents = contents.drop('None',axis = 1)\n",
    "        return contents\n",
    "    \n",
    "    # 定义函数实现对item_id对应的文件路径作索引\n",
    "    def complete_cat(self,sets,contents):\n",
    "        # 遍历sets中的元素，将编号更改为cat_id/item_id\n",
    "        sets_new = {}\n",
    "        for cat in sets.items():\n",
    "            key = cat[0]\n",
    "            item_id_sets = cat[1]\n",
    "\n",
    "            sets_new[key] = []\n",
    "            for i in range(0,len(item_id_sets)):\n",
    "                sets_new[key].append([])\n",
    "                for item_id in item_id_sets[i]:\n",
    "                    # 在contents中索引item_id 对应的cat_id\n",
    "                    try:\n",
    "                        cat_id = str(contents[contents['item_id'] == int(item_id)]['cat_id'].values[0])\n",
    "                    except:\n",
    "                        cat_id='未知'\n",
    "                        print('error')\n",
    "                    item_id_new = cat_id+'/'+str(item_id)\n",
    "                    sets_new[key][i].append(item_id_new)\n",
    "        return sets_new\n",
    "    \n",
    "    # 根据存储的文件路径读取并展示,summary中存储的为路径信息\n",
    "    def present_pic(self,sets):\n",
    "        error_matchsets = []\n",
    "        for i in list(sets.keys()):\n",
    "            # print(summary_new[i])\n",
    "            try:\n",
    "                store_img(sets[i],'/root/cai/pics_matches/matchsets/match_'+str(i)+'.jpg')\n",
    "            except:\n",
    "                error_matchsets.append(sets[i])\n",
    "                print('搭配组合%d生成失败' %(i))\n",
    "        return error_matchsets\n",
    "    \n",
    "    \n",
    "    # 定义函数实现对搭配组合的存储(图片形式)，输入为item_sets：列表格式的搭配组合；name：要保存的图片名\n",
    "    def store_img(item_sets,name):\n",
    "        # item_sets = sets_new[1]\n",
    "        # 获取画布的长度和宽度(图片个数)\n",
    "        height = max([len(item_set) for item_set in item_sets])\n",
    "        weight = len(item_sets)\n",
    "        # print('weight:%d,height:%d' %(weight,height))\n",
    "        for i,item_set in enumerate(item_sets):\n",
    "            for j,item in enumerate(item_set):\n",
    "                img_path = '/root/cai/pics_classfied/' + item + '.jpg'\n",
    "                index = j*weight+i+1\n",
    "                try:\n",
    "                    img = cv2.imread(img_path)\n",
    "                    # img = cv2.imread('test1.png', 0)\n",
    "                    # print('读取成功',img.shape)\n",
    "                except:\n",
    "                    #print('error')\n",
    "                    img = cv2.imread('error.jpg')\n",
    "                    #img = cv2.imread('test1.png', 0)\n",
    "                    print('图片读取失败:%s' %img_path)\n",
    "                # print(height,weight,index)\n",
    "                b,g,r = cv2.split(img) # 将图像通道分离开\n",
    "                img = cv2.merge([r,g,b]) # 重新以RGB形式组合\n",
    "                plt.subplot(height,weight,index)\n",
    "                plt.imshow(img)\n",
    "                if index<=weight: # 在第一行的图片标题设置为大类名称\n",
    "                    plt.title('cloth')\n",
    "                plt.axis('off')\n",
    "                plt.xticks()\n",
    "                plt.yticks()\n",
    "        plt.savefig(name) \n",
    "                # print('height:%d,weight:%d,index:%d'%(height,weight,j*weight+i+1))"
   ]
  },
  {
   "cell_type": "code",
   "execution_count": 8,
   "metadata": {},
   "outputs": [],
   "source": [
    "# 定义函数实现对搭配组合的存储(图片形式)，输入为item_sets：列表格式的搭配组合；name：要保存的图片名\n",
    "def store_img(item_sets,name):\n",
    "    # item_sets = sets_new[1]\n",
    "    # 获取画布的长度和宽度(图片个数)\n",
    "    height = max([len(item_set) for item_set in item_sets])\n",
    "    weight = len(item_sets)\n",
    "    # print('weight:%d,height:%d' %(weight,height))\n",
    "    for i,item_set in enumerate(item_sets):\n",
    "        for j,item in enumerate(item_set):\n",
    "            img_path = '/root/cai/pics_classfied/' + item + '.jpg'\n",
    "            index = j*weight+i+1\n",
    "            try:\n",
    "                img = cv2.imread(img_path)\n",
    "                # img = cv2.imread('test1.png', 0)\n",
    "                # print('读取成功',img.shape)\n",
    "            except:\n",
    "                #print('error')\n",
    "                img = cv2.imread('error.jpg')\n",
    "                #img = cv2.imread('test1.png', 0)\n",
    "                print('图片读取失败:%s' %img_path)\n",
    "            # print(height,weight,index)\n",
    "            b,g,r = cv2.split(img) # 将图像通道分离开\n",
    "            img = cv2.merge([r,g,b]) # 重新以RGB形式组合\n",
    "            \n",
    "            plt.subplot(height,weight,index)\n",
    "            plt.imshow(img)\n",
    "            if index<=weight: # 在第一行的图片标题设置为大类名称\n",
    "                plt.title('cloth')\n",
    "            plt.axis('off')\n",
    "            plt.xticks()\n",
    "            plt.yticks()\n",
    "    plt.savefig(name) \n",
    "            # print('height:%d,weight:%d,index:%d'%(height,weight,j*weight+i+1))"
   ]
  },
  {
   "cell_type": "code",
   "execution_count": 10,
   "metadata": {},
   "outputs": [],
   "source": [
    "pic = PicReader()\n",
    "contents = pic.read_cat('../Dataes/OriginDataes/dim_items.txt')\n",
    "summary_new = pic.complete_cat(summary,contents)"
   ]
  },
  {
   "cell_type": "code",
   "execution_count": 11,
   "metadata": {},
   "outputs": [
    {
     "name": "stdout",
     "output_type": "stream",
     "text": [
      "搭配组合1生成失败\n"
     ]
    },
    {
     "name": "stderr",
     "output_type": "stream",
     "text": [
      "/usr/local/lib/python3.5/dist-packages/matplotlib/figure.py:98: MatplotlibDeprecationWarning: \n",
      "Adding an axes using the same arguments as a previous axes currently reuses the earlier instance.  In a future version, a new instance will always be created and returned.  Meanwhile, this warning can be suppressed, and the future behavior ensured, by passing a unique label to each axes instance.\n",
      "  \"Adding an axes using the same arguments as a previous axes \"\n"
     ]
    },
    {
     "name": "stdout",
     "output_type": "stream",
     "text": [
      "搭配组合622生成失败\n",
      "搭配组合623生成失败\n",
      "搭配组合775生成失败\n",
      "搭配组合815生成失败\n",
      "搭配组合844生成失败\n",
      "搭配组合1041生成失败\n",
      "搭配组合1090生成失败\n",
      "搭配组合1137生成失败\n",
      "搭配组合1424生成失败\n",
      "搭配组合1583生成失败\n",
      "搭配组合1850生成失败\n",
      "搭配组合1971生成失败\n",
      "搭配组合2126生成失败\n",
      "搭配组合2244生成失败\n",
      "搭配组合2491生成失败\n",
      "搭配组合2566生成失败\n",
      "搭配组合2577生成失败\n",
      "搭配组合2718生成失败\n",
      "搭配组合2770生成失败\n",
      "搭配组合3052生成失败\n",
      "搭配组合3248生成失败\n",
      "搭配组合3427生成失败\n",
      "搭配组合3439生成失败\n",
      "搭配组合3462生成失败\n",
      "搭配组合3478生成失败\n",
      "搭配组合3720生成失败\n",
      "搭配组合3836生成失败\n",
      "搭配组合4149生成失败\n",
      "搭配组合4399生成失败\n",
      "搭配组合4649生成失败\n",
      "搭配组合4659生成失败\n",
      "搭配组合4663生成失败\n",
      "搭配组合4776生成失败\n",
      "搭配组合4890生成失败\n",
      "搭配组合4975生成失败\n",
      "搭配组合5274生成失败\n",
      "搭配组合5277生成失败\n",
      "搭配组合5359生成失败\n",
      "搭配组合5689生成失败\n",
      "搭配组合6024生成失败\n",
      "搭配组合6141生成失败\n",
      "搭配组合6350生成失败\n",
      "搭配组合6569生成失败\n",
      "搭配组合6888生成失败\n",
      "搭配组合7193生成失败\n",
      "搭配组合7465生成失败\n",
      "搭配组合7552生成失败\n",
      "搭配组合7877生成失败\n",
      "搭配组合8157生成失败\n",
      "搭配组合8220生成失败\n",
      "搭配组合8352生成失败\n",
      "搭配组合8862生成失败\n",
      "搭配组合9323生成失败\n",
      "搭配组合9566生成失败\n",
      "搭配组合9769生成失败\n",
      "搭配组合9774生成失败\n",
      "搭配组合9980生成失败\n",
      "搭配组合10320生成失败\n",
      "搭配组合10361生成失败\n",
      "搭配组合10482生成失败\n",
      "搭配组合10652生成失败\n",
      "搭配组合10691生成失败\n",
      "搭配组合10748生成失败\n",
      "搭配组合10829生成失败\n",
      "搭配组合10868生成失败\n",
      "搭配组合10975生成失败\n",
      "搭配组合11055生成失败\n",
      "搭配组合11172生成失败\n",
      "搭配组合11206生成失败\n",
      "搭配组合11386生成失败\n",
      "搭配组合11571生成失败\n",
      "搭配组合11610生成失败\n",
      "搭配组合11627生成失败\n",
      "搭配组合12213生成失败\n",
      "搭配组合12777生成失败\n",
      "搭配组合12806生成失败\n",
      "搭配组合13079生成失败\n",
      "搭配组合13085生成失败\n",
      "搭配组合13104生成失败\n",
      "搭配组合13170生成失败\n",
      "搭配组合13195生成失败\n",
      "搭配组合13324生成失败\n",
      "搭配组合13462生成失败\n",
      "搭配组合13805生成失败\n",
      "搭配组合13844生成失败\n",
      "搭配组合13982生成失败\n",
      "搭配组合14011生成失败\n",
      "搭配组合14404生成失败\n",
      "搭配组合14503生成失败\n",
      "搭配组合14684生成失败\n",
      "搭配组合15072生成失败\n",
      "搭配组合15166生成失败\n",
      "搭配组合15225生成失败\n",
      "搭配组合15443生成失败\n",
      "搭配组合15742生成失败\n",
      "搭配组合15832生成失败\n",
      "搭配组合15959生成失败\n",
      "搭配组合16038生成失败\n",
      "搭配组合16203生成失败\n",
      "搭配组合16272生成失败\n",
      "搭配组合16375生成失败\n",
      "搭配组合16451生成失败\n",
      "搭配组合16569生成失败\n",
      "搭配组合16735生成失败\n",
      "搭配组合16985生成失败\n",
      "搭配组合17032生成失败\n",
      "搭配组合17243生成失败\n",
      "搭配组合17276生成失败\n",
      "搭配组合17330生成失败\n",
      "搭配组合18363生成失败\n",
      "搭配组合18411生成失败\n",
      "搭配组合18721生成失败\n",
      "搭配组合19136生成失败\n",
      "搭配组合19331生成失败\n",
      "搭配组合19412生成失败\n",
      "搭配组合19490生成失败\n",
      "搭配组合19581生成失败\n",
      "搭配组合19718生成失败\n",
      "搭配组合19840生成失败\n",
      "搭配组合20063生成失败\n",
      "搭配组合20336生成失败\n",
      "搭配组合20338生成失败\n",
      "搭配组合20382生成失败\n",
      "搭配组合20510生成失败\n",
      "搭配组合20540生成失败\n",
      "搭配组合20572生成失败\n",
      "搭配组合20784生成失败\n",
      "搭配组合20839生成失败\n",
      "搭配组合20953生成失败\n",
      "搭配组合20983生成失败\n",
      "搭配组合21116生成失败\n",
      "搭配组合21224生成失败\n",
      "搭配组合21463生成失败\n",
      "搭配组合21685生成失败\n",
      "搭配组合22076生成失败\n",
      "搭配组合22120生成失败\n",
      "搭配组合22198生成失败\n",
      "搭配组合22540生成失败\n",
      "搭配组合22632生成失败\n",
      "搭配组合22667生成失败\n",
      "搭配组合22775生成失败\n",
      "搭配组合22880生成失败\n",
      "搭配组合23077生成失败\n"
     ]
    },
    {
     "data": {
      "image/png": "[encoded data removed]",
      "text/plain": [
       "<Figure size 432x288 with 2 Axes>"
      ]
     },
     "metadata": {
      "needs_background": "light"
     },
     "output_type": "display_data"
    }
   ],
   "source": [
    "error_sets = pic.present_pic(summary_new)"
   ]
  },
  {
   "cell_type": "code",
   "execution_count": 12,
   "metadata": {},
   "outputs": [
    {
     "data": {
      "text/plain": [
       "144"
      ]
     },
     "execution_count": 12,
     "metadata": {},
     "output_type": "execute_result"
    }
   ],
   "source": [
    "len(error_sets)"
   ]
  },
  {
   "cell_type": "code",
   "execution_count": 13,
   "metadata": {},
   "outputs": [
    {
     "data": {
      "text/plain": [
       "23104"
      ]
     },
     "execution_count": 13,
     "metadata": {},
     "output_type": "execute_result"
    }
   ],
   "source": [
    "len(summary_new)"
   ]
  }
 ],
 "metadata": {
  "kernelspec": {
   "display_name": "Python 3",
   "language": "python",
   "name": "python3"
  },
  "language_info": {
   "codemirror_mode": {
    "name": "ipython",
    "version": 3
   },
   "file_extension": ".py",
   "mimetype": "text/x-python",
   "name": "python",
   "nbconvert_exporter": "python",
   "pygments_lexer": "ipython3",
   "version": "3.8.3"
  }
 },
 "nbformat": 4,
 "nbformat_minor": 4
}
