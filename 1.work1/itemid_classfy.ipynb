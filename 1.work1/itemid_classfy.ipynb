{
 "cells": [
  {
   "cell_type": "code",
   "execution_count": 1,
   "metadata": {},
   "outputs": [],
   "source": [
    "import csv\n",
    "import numpy as np\n",
    "import pandas as pd\n",
    "import os"
   ]
  },
  {
   "cell_type": "markdown",
   "metadata": {},
   "source": [
    "##### 一、读取初始文件（dim_items.txt），生成contents（dataframe）"
   ]
  },
  {
   "cell_type": "code",
   "execution_count": 4,
   "metadata": {},
   "outputs": [],
   "source": [
    "class ItemsReader:\n",
    "    def __init__(self):\n",
    "        # 定义路径\n",
    "        self.root_path = '../Dataes/OriginDataes'\n",
    "        self.item_path = self.root_path+'/dim_items.txt'\n",
    "        # 读取初始文件\n",
    "        self.itemIds = pd.read_csv(self.item_path,sep=' ')\n",
    "        self.itemIds.columns=['item_id','cat_id','contents']\n",
    "        # 将数据进行整改,重新复制给items\n",
    "        self.items = pd.DataFrame()\n",
    "        self.items['item_id'] = self.itemIds['item_id']\n",
    "        self.items['cat_id'] = self.itemIds['cat_id']\n",
    "    def assemble(self):\n",
    "        cat_id = []\n",
    "        item_id_set = []\n",
    "        contents = pd.DataFrame()\n",
    "        cat_ids = self.items['cat_id'].unique().tolist()\n",
    "        # 筛选同一cat_id的item_id列，并赋值给item_id\n",
    "        for cat_id in cat_ids:\n",
    "            row = {}\n",
    "            item_id_set = self.items.loc[self.items['cat_id']==cat_id]['item_id'].tolist()\n",
    "            row['cat_id'] = cat_id\n",
    "            row['item_id'] = item_id_set\n",
    "            contents = contents.append([{'cat_id':row['cat_id'],'item_id':row['item_id']}],ignore_index=True)\n",
    "        return contents"
   ]
  },
  {
   "cell_type": "code",
   "execution_count": 5,
   "metadata": {},
   "outputs": [
    {
     "data": {
      "text/html": [
       "<div>\n",
       "<style scoped>\n",
       "    .dataframe tbody tr th:only-of-type {\n",
       "        vertical-align: middle;\n",
       "    }\n",
       "\n",
       "    .dataframe tbody tr th {\n",
       "        vertical-align: top;\n",
       "    }\n",
       "\n",
       "    .dataframe thead th {\n",
       "        text-align: right;\n",
       "    }\n",
       "</style>\n",
       "<table border=\"1\" class=\"dataframe\">\n",
       "  <thead>\n",
       "    <tr style=\"text-align: right;\">\n",
       "      <th></th>\n",
       "      <th>cat_id</th>\n",
       "      <th>item_id</th>\n",
       "    </tr>\n",
       "  </thead>\n",
       "  <tbody>\n",
       "    <tr>\n",
       "      <th>0</th>\n",
       "      <td>228</td>\n",
       "      <td>[49, 179, 504, 774, 864, 2314, 2744, 3219, 360...</td>\n",
       "    </tr>\n",
       "    <tr>\n",
       "      <th>1</th>\n",
       "      <td>284</td>\n",
       "      <td>[59, 559, 789, 1359, 1734, 2114, 2419, 2569, 2...</td>\n",
       "    </tr>\n",
       "    <tr>\n",
       "      <th>2</th>\n",
       "      <td>461</td>\n",
       "      <td>[109, 489, 1059, 1279, 1854, 2264, 2279, 2354,...</td>\n",
       "    </tr>\n",
       "    <tr>\n",
       "      <th>3</th>\n",
       "      <td>368</td>\n",
       "      <td>[119, 264, 374, 414, 494, 1049, 3094, 3544, 38...</td>\n",
       "    </tr>\n",
       "    <tr>\n",
       "      <th>4</th>\n",
       "      <td>188</td>\n",
       "      <td>[154, 6399, 7529, 10534, 11474, 14984, 15369, ...</td>\n",
       "    </tr>\n",
       "  </tbody>\n",
       "</table>\n",
       "</div>"
      ],
      "text/plain": [
       "   cat_id                                            item_id\n",
       "0     228  [49, 179, 504, 774, 864, 2314, 2744, 3219, 360...\n",
       "1     284  [59, 559, 789, 1359, 1734, 2114, 2419, 2569, 2...\n",
       "2     461  [109, 489, 1059, 1279, 1854, 2264, 2279, 2354,...\n",
       "3     368  [119, 264, 374, 414, 494, 1049, 3094, 3544, 38...\n",
       "4     188  [154, 6399, 7529, 10534, 11474, 14984, 15369, ..."
      ]
     },
     "execution_count": 5,
     "metadata": {},
     "output_type": "execute_result"
    }
   ],
   "source": [
    "# 实例化\n",
    "item = ItemsReader()\n",
    "# 同一类的item_id作筛选\n",
    "contents = item.assemble()\n",
    "# 展示前n项\n",
    "contents.head(5)"
   ]
  },
  {
   "cell_type": "markdown",
   "metadata": {},
   "source": [
    "##### 二、读取初始文件（pics/tianchi_fm_img2_*/），转存至文件夹pics_classfied/下"
   ]
  },
  {
   "cell_type": "code",
   "execution_count": 26,
   "metadata": {},
   "outputs": [],
   "source": [
    "class CatFolderCreator:\n",
    "    # 定义初始化函数，获取指定文件夹下的文件名称，存储在字典img下\n",
    "    def __init__(self):\n",
    "        self.root_path = '../../pics/tianchi_fm_img2_'  # 指定路径 \n",
    "        self.img = {}\n",
    "        # i = 1，2，3，4\n",
    "        for i in range(1,5):\n",
    "            self.img[i] = self.fet_imlist(self.root_path+str(i))\n",
    "    \n",
    "    # 定义展示函数，用于展示读取的图片信息：img字典的信息\n",
    "    def cat_show(self):\n",
    "        for i in range(1,5):\n",
    "            print('文件%d包含的图片数量: %d' %(i,len(self.img[i])))\n",
    "    \n",
    "    # 定义cat类文件夹生成函数，用于创建281个大类对应的文件夹,path为上级目录路径\n",
    "    def creator(self,path):\n",
    "        self.cat = [os.path.join(path,str(f)) for f in contents['cat_id'].values.tolist()]\n",
    "        for cat in self.cat:\n",
    "            try:\n",
    "                os.mkdir(cat)\n",
    "            except:\n",
    "                print('error: failed to create %s' %(str(cat)))\n",
    "    \n",
    "    # 文件名称记录函数\n",
    "    def fet_imlist(self,path):\n",
    "        name_list = [os.path.join(path,f) for f in os.listdir(path) if f.endswith('.jpg')]\n",
    "        return name_list\n",
    "    \n",
    "    # 子文件夹生成函数\n",
    "    def cat_fold_create(self,cat_id):\n",
    "        pass"
   ]
  }
 ],
 "metadata": {
  "kernelspec": {
   "display_name": "Python 3",
   "language": "python",
   "name": "python3"
  },
  "language_info": {
   "codemirror_mode": {
    "name": "ipython",
    "version": 3
   },
   "file_extension": ".py",
   "mimetype": "text/x-python",
   "name": "python",
   "nbconvert_exporter": "python",
   "pygments_lexer": "ipython3",
   "version": "3.5.2"
  }
 },
 "nbformat": 4,
 "nbformat_minor": 4
}
