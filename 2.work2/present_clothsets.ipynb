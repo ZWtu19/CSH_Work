{
 "cells": [
  {
   "cell_type": "markdown",
   "metadata": {},
   "source": [
    "### 展示专家推荐的服装搭配组合"
   ]
  },
  {
   "cell_type": "code",
   "execution_count": 1,
   "metadata": {},
   "outputs": [
    {
     "name": "stderr",
     "output_type": "stream",
     "text": [
      "/usr/lib/python3.5/importlib/_bootstrap.py:222: RuntimeWarning: numpy.ufunc size changed, may indicate binary incompatibility. Expected 216, got 192\n",
      "  return f(*args, **kwds)\n"
     ]
    }
   ],
   "source": [
    "import numpy as np\n",
    "import pandas as pd\n",
    "import matplotlib.pyplot as plt"
   ]
  },
  {
   "cell_type": "markdown",
   "metadata": {},
   "source": [
    "##### 一、读取搭配组合，存储至字典"
   ]
  },
  {
   "cell_type": "code",
   "execution_count": 101,
   "metadata": {},
   "outputs": [],
   "source": [
    "class DataReader:\n",
    "    # 初始化函数,读取文件dim_fashion_matchsets.txt文件\n",
    "    def __init__(self):\n",
    "        self.root = '../Dataes/OriginDataes/dim_fashion_matchsets.txt'\n",
    "        matchsets = pd.read_csv(self.root,sep=' ')\n",
    "        matchsets.columns = ['index','item_set'] # 定义列名\n",
    "        self.matchsets = matchsets.drop('index',axis=1) # 删除index列名\n",
    "    \n",
    "    # 处理文件,根据self.matchsets生成对应组合，存储在列表中\n",
    "    def create_sets(self):\n",
    "        summary = {} #存储总的搭配组合\n",
    "        for i in range(0,len(self.matchsets[:100])):\n",
    "            sets = matchsets['item_set'][i] # 原搭配信息\n",
    "            big_cloths = sets.split(';') # 分割各大类\n",
    "            count = acount_num(sets) #计算当前组合下各大类的数量\n",
    "            # print(count)\n",
    "            for j in range(0,len(count)):\n",
    "                cloths = big_cloths[j].split(',')\n",
    "                big_cloths[j] = cloths\n",
    "            summary[i] = big_cloths\n",
    "        return summary\n",
    "    # 给定搭配组合（字符串），得到各大类的数量，以列表的形式返回\n",
    "    def acount_num(sets):\n",
    "        types = sets.split(';')\n",
    "        count = []\n",
    "        for type_cloths in types:\n",
    "            num_cloth = type_cloths.split(',')\n",
    "            count.append(len(num_cloth))\n",
    "        return count  "
   ]
  },
  {
   "cell_type": "markdown",
   "metadata": {},
   "source": [
    "##### 二、根据搭配组合，生成图片并展示"
   ]
  },
  {
   "cell_type": "code",
   "execution_count": null,
   "metadata": {},
   "outputs": [],
   "source": [
    "class PicReader:\n",
    "    # 初始化函数，指定图片的读取路径"
   ]
  }
 ],
 "metadata": {
  "kernelspec": {
   "display_name": "Python 3",
   "language": "python",
   "name": "python3"
  },
  "language_info": {
   "codemirror_mode": {
    "name": "ipython",
    "version": 3
   },
   "file_extension": ".py",
   "mimetype": "text/x-python",
   "name": "python",
   "nbconvert_exporter": "python",
   "pygments_lexer": "ipython3",
   "version": "3.5.2"
  }
 },
 "nbformat": 4,
 "nbformat_minor": 4
}
